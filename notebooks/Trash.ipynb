{
 "cells": [
  {
   "cell_type": "markdown",
   "id": "d46ea888",
   "metadata": {},
   "source": [
    "**Bicipark**"
   ]
  },
  {
   "cell_type": "code",
   "execution_count": null,
   "id": "629b336d",
   "metadata": {},
   "outputs": [],
   "source": [
    "bicipark = pd.read_csv('../data/raw/bicipark_stations.csv', sep=';') #importamos el csv\n",
    "bicipark.info()"
   ]
  },
  {
   "cell_type": "code",
   "execution_count": null,
   "id": "f25ac9d1",
   "metadata": {},
   "outputs": [],
   "source": [
    "bicipark.head()"
   ]
  },
  {
   "cell_type": "code",
   "execution_count": null,
   "id": "581c3b89",
   "metadata": {},
   "outputs": [],
   "source": [
    "#compruebo los NaN\n",
    "nan_cols = bicipark.isna().sum() \n",
    "nan_cols[nan_cols>0]"
   ]
  },
  {
   "cell_type": "code",
   "execution_count": null,
   "id": "2d52ebe3",
   "metadata": {},
   "outputs": [],
   "source": []
  },
  {
   "cell_type": "code",
   "execution_count": null,
   "id": "f4bce38d",
   "metadata": {},
   "outputs": [],
   "source": [
    "celdas = []\n",
    "\n",
    "for celda in concatenated_df['bicimad']:\n",
    "   \n",
    "    if 'Bicimad: Estaciones ' in celda:\n",
    "        partes = celda.split('Bicimad: Estaciones ')[1].split(',)')\n",
    "        celdas.append(partes)\n",
    "    elif 'Bicimad: Estación ' in celda:\n",
    "        parte = celda.split('Bicimad: Estación ')[1].split('(')[0]\n",
    "        celdas.append(parte)\n",
    "    else:\n",
    "        celdas.append(0)\n",
    "\n",
    "#celdas"
   ]
  },
  {
   "cell_type": "code",
   "execution_count": null,
   "id": "0e18c0ed",
   "metadata": {},
   "outputs": [],
   "source": [
    "elementos = []\n",
    "\n",
    "for e in celdas:\n",
    "    if isinstance(e, list):\n",
    "        estaciones_lista = []  # Lista para almacenar las estaciones de cada lista\n",
    "        for element in e:\n",
    "            subelementos = element.split('),')\n",
    "            for subelemento in subelementos:\n",
    "                estacion = subelemento.split('(')[0].strip()  # Obtenemos el número de estación eliminando el texto después del '(' y los espacios en blanco\n",
    "                estaciones_lista.append(estacion)\n",
    "        elementos.append(estaciones_lista)\n",
    "    else:\n",
    "        elementos.append(e)\n",
    "\n",
    "elementos"
   ]
  },
  {
   "cell_type": "code",
   "execution_count": null,
   "id": "8cc466a0",
   "metadata": {},
   "outputs": [],
   "source": []
  },
  {
   "cell_type": "code",
   "execution_count": null,
   "id": "55e71773",
   "metadata": {},
   "outputs": [],
   "source": []
  }
 ],
 "metadata": {
  "kernelspec": {
   "display_name": "Python 3 (ipykernel)",
   "language": "python",
   "name": "python3"
  },
  "language_info": {
   "codemirror_mode": {
    "name": "ipython",
    "version": 3
   },
   "file_extension": ".py",
   "mimetype": "text/x-python",
   "name": "python",
   "nbconvert_exporter": "python",
   "pygments_lexer": "ipython3",
   "version": "3.11.5"
  }
 },
 "nbformat": 4,
 "nbformat_minor": 5
}
